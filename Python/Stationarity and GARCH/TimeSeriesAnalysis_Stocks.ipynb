{
 "cells": [
  {
   "cell_type": "code",
   "execution_count": 40,
   "metadata": {},
   "outputs": [],
   "source": [
    "# Setup\n",
    "import numpy as np\n",
    "import pandas as pd\n",
    "import yfinance as yf\n",
    "from matplotlib import pyplot\n",
    "import statsmodels\n",
    "import statsmodels.tsa.stattools as tsa\n",
    "from arch import arch_model"
   ]
  },
  {
   "cell_type": "code",
   "execution_count": 7,
   "metadata": {},
   "outputs": [],
   "source": [
    "# A demonstration of capabilities\n",
    "\n",
    "msft = yf.Ticker(\"MSFT\")\n",
    "\n",
    "# get stock info\n",
    "msft.info\n",
    "\n",
    "# get historical market data\n",
    "hist = msft.history(period=\"max\")\n",
    "\n",
    "# show actions (dividends, splits)\n",
    "msft.actions\n",
    "\n",
    "# show dividends\n",
    "msft.dividends\n",
    "\n",
    "# show splits\n",
    "msft.splits\n",
    "\n",
    "# show financials\n",
    "msft.financials\n",
    "msft.quarterly_financials\n",
    "\n",
    "# show major holders\n",
    "msft.major_holders\n",
    "\n",
    "# show institutional holders\n",
    "msft.institutional_holders\n",
    "\n",
    "# show balance sheet\n",
    "msft.balance_sheet\n",
    "msft.quarterly_balance_sheet\n",
    "\n",
    "# show cashflow\n",
    "msft.cashflow\n",
    "msft.quarterly_cashflow\n",
    "\n",
    "# show earnings\n",
    "msft.earnings\n",
    "msft.quarterly_earnings\n",
    "\n",
    "# show sustainability\n",
    "msft.sustainability\n",
    "\n",
    "# show analysts recommendations\n",
    "msft.recommendations\n",
    "\n",
    "# show next event (earnings, etc)\n",
    "msft.calendar\n",
    "\n",
    "# show ISIN code - *experimental*\n",
    "# ISIN = International Securities Identification Number\n",
    "msft.isin\n",
    "\n",
    "# show options expirations\n",
    "msft.options\n",
    "\n",
    "# get option chain for specific expiration\n",
    "opt = msft.option_chain('2020-12-17')\n",
    "# data available via: opt.calls, opt.puts"
   ]
  },
  {
   "cell_type": "code",
   "execution_count": 19,
   "metadata": {},
   "outputs": [
    {
     "data": {
      "image/png": "[encoded data removed]",
      "text/plain": [
       "<Figure size 432x288 with 1 Axes>"
      ]
     },
     "metadata": {
      "needs_background": "light"
     },
     "output_type": "display_data"
    }
   ],
   "source": [
    "temp_data = hist['Close']\n",
    "\n",
    "temp_data.plot()\n",
    "pyplot.show()"
   ]
  },
  {
   "cell_type": "markdown",
   "metadata": {},
   "source": [
    "It should be clear that this data is not stationary - the mean is certainly not constant, nor is the variance.\n",
    "We run the Augmented Dickey-Fuller (ADF) Test to verify."
   ]
  },
  {
   "cell_type": "code",
   "execution_count": 26,
   "metadata": {},
   "outputs": [
    {
     "data": {
      "text/plain": [
       "(8.098423580543738,\n",
       " 1.0,\n",
       " 36,\n",
       " 8726,\n",
       " {'1%': -3.4310996246527132,\n",
       "  '5%': -2.8618712841785983,\n",
       "  '10%': -2.566946337601596},\n",
       " 22905.388534435362)"
      ]
     },
     "execution_count": 26,
     "metadata": {},
     "output_type": "execute_result"
    }
   ],
   "source": [
    "tsa.adfuller(temp_data, maxlag=None, regression='c', autolag='AIC', store=False, regresults=False)"
   ]
  },
  {
   "cell_type": "markdown",
   "metadata": {},
   "source": [
    "As evidenced by the second data point, we have a p-value of 1.0, indicating to us that this data is not stationary.\n",
    "We now attempt to turn this dataset into a stationary one.\n",
    "\n",
    "A good interpretation of the results of the adfuller test can be found here:\n",
    "https://stackoverflow.com/questions/47349422/how-to-interpret-adfuller-test-results"
   ]
  },
  {
   "cell_type": "code",
   "execution_count": 33,
   "metadata": {},
   "outputs": [],
   "source": [
    "msft_diff = [x - temp_data[i - 1] for i, x in enumerate(temp_data)][1:]"
   ]
  },
  {
   "cell_type": "code",
   "execution_count": 36,
   "metadata": {},
   "outputs": [
    {
     "name": "stderr",
     "output_type": "stream",
     "text": [
      "C:\\Users\\savio\\Anaconda3\\lib\\site-packages\\ipykernel_launcher.py:3: SettingWithCopyWarning: \n",
      "A value is trying to be set on a copy of a slice from a DataFrame.\n",
      "Try using .loc[row_indexer,col_indexer] = value instead\n",
      "\n",
      "See the caveats in the documentation: http://pandas.pydata.org/pandas-docs/stable/indexing.html#indexing-view-versus-copy\n",
      "  This is separate from the ipykernel package so we can avoid doing imports until\n"
     ]
    },
    {
     "data": {
      "image/png": "[encoded data removed]",
      "text/plain": [
       "<Figure size 432x288 with 1 Axes>"
      ]
     },
     "metadata": {
      "needs_background": "light"
     },
     "output_type": "display_data"
    }
   ],
   "source": [
    "# We now plot out the difference\n",
    "rem_one = hist.iloc[1:]\n",
    "rem_one['Diff'] = msft_diff\n",
    "rem_one['Diff'].plot()\n",
    "pyplot.show()"
   ]
  },
  {
   "cell_type": "markdown",
   "metadata": {},
   "source": [
    "It now appears that the mean is stationary, but the variance certainly is not. \n",
    "Let us run the ADF test again."
   ]
  },
  {
   "cell_type": "code",
   "execution_count": 38,
   "metadata": {},
   "outputs": [
    {
     "data": {
      "text/plain": [
       "(-15.634808564470234,\n",
       " 1.668120859218079e-28,\n",
       " 37,\n",
       " 8724,\n",
       " {'1%': -3.431099796556747,\n",
       "  '5%': -2.861871360139148,\n",
       "  '10%': -2.5669463780359156},\n",
       " 22951.621786311895)"
      ]
     },
     "execution_count": 38,
     "metadata": {},
     "output_type": "execute_result"
    }
   ],
   "source": [
    "tsa.adfuller(rem_one['Diff'], maxlag=None, regression='c', autolag='AIC', store=False, regresults=False)"
   ]
  },
  {
   "cell_type": "markdown",
   "metadata": {},
   "source": [
    "This time, according to the ADF test, this difference'd dataset is stationary.\n",
    "Now we must consider what model we should apply to this.\n",
    "Given that there exist several instances of large spikes in volatility, a GARCH(1,1) model seems useful."
   ]
  },
  {
   "cell_type": "code",
   "execution_count": 42,
   "metadata": {},
   "outputs": [
    {
     "name": "stdout",
     "output_type": "stream",
     "text": [
      "Iteration:     10,   Func. Count:     88,   Neg. LLF: -1275.0492788317247\n",
      "Iteration:     20,   Func. Count:    166,   Neg. LLF: -2323.5892088870687\n",
      "Optimization terminated successfully.    (Exit mode 0)\n",
      "            Current function value: -2317.477469155778\n",
      "            Iterations: 27\n",
      "            Function evaluations: 218\n",
      "            Gradient evaluations: 26\n",
      "                     Constant Mean - GARCH Model Results                      \n",
      "==============================================================================\n",
      "Dep. Variable:                   Diff   R-squared:                      -0.001\n",
      "Mean Model:             Constant Mean   Adj. R-squared:                 -0.001\n",
      "Vol Model:                      GARCH   Log-Likelihood:                2317.48\n",
      "Distribution:                  Normal   AIC:                          -4626.95\n",
      "Method:            Maximum Likelihood   BIC:                          -4598.64\n",
      "                                        No. Observations:                 8762\n",
      "Date:                Tue, Dec 15 2020   Df Residuals:                     8758\n",
      "Time:                        10:07:32   Df Model:                            4\n",
      "                                  Mean Model                                 \n",
      "=============================================================================\n",
      "                 coef    std err          t      P>|t|       95.0% Conf. Int.\n",
      "-----------------------------------------------------------------------------\n",
      "mu         5.6731e-04  1.812e-03      0.313      0.754 [-2.985e-03,4.120e-03]\n",
      "                              Volatility Model                              \n",
      "============================================================================\n",
      "                 coef    std err          t      P>|t|      95.0% Conf. Int.\n",
      "----------------------------------------------------------------------------\n",
      "omega      2.6650e-07  9.648e-08      2.762  5.741e-03 [7.740e-08,4.556e-07]\n",
      "alpha[1]       0.0421  1.288e-02      3.272  1.069e-03 [1.690e-02,6.739e-02]\n",
      "beta[1]        0.9579  1.139e-02     84.117      0.000     [  0.936,  0.980]\n",
      "============================================================================\n",
      "\n",
      "Covariance estimator: robust\n"
     ]
    }
   ],
   "source": [
    "garch11 = arch_model(rem_one['Diff'], p=1, q=1)\n",
    "res = garch11.fit(update_freq=10)\n",
    "print(res.summary())"
   ]
  },
  {
   "cell_type": "code",
   "execution_count": 54,
   "metadata": {},
   "outputs": [
    {
     "name": "stdout",
     "output_type": "stream",
     "text": [
      "                 h.1       h.2       h.3       h.4       h.5\n",
      "Date                                                        \n",
      "2020-12-11       NaN       NaN       NaN       NaN       NaN\n",
      "2020-12-14       NaN       NaN       NaN       NaN       NaN\n",
      "2020-12-15  0.000567  0.000567  0.000567  0.000567  0.000567\n",
      "                  h.1        h.2        h.3        h.4        h.5\n",
      "Date                                                             \n",
      "2020-12-11        NaN        NaN        NaN        NaN        NaN\n",
      "2020-12-14        NaN        NaN        NaN        NaN        NaN\n",
      "2020-12-15  10.900867  10.900867  10.900867  10.900868  10.900868\n",
      "                  h.1        h.2        h.3        h.4        h.5\n",
      "Date                                                             \n",
      "2020-12-11        NaN        NaN        NaN        NaN        NaN\n",
      "2020-12-14        NaN        NaN        NaN        NaN        NaN\n",
      "2020-12-15  10.900867  10.900867  10.900867  10.900868  10.900868\n"
     ]
    }
   ],
   "source": [
    "# Forecast\n",
    "forecasts = res.forecast(horizon=5)\n",
    "print(forecasts.mean.iloc[-3:])\n",
    "print(forecasts.residual_variance.iloc[-3:])\n",
    "print(forecasts.variance.iloc[-3:])"
   ]
  }
 ],
 "metadata": {
  "kernelspec": {
   "display_name": "Python 3",
   "language": "python",
   "name": "python3"
  },
  "language_info": {
   "codemirror_mode": {
    "name": "ipython",
    "version": 3
   },
   "file_extension": ".py",
   "mimetype": "text/x-python",
   "name": "python",
   "nbconvert_exporter": "python",
   "pygments_lexer": "ipython3",
   "version": "3.7.3"
  }
 },
 "nbformat": 4,
 "nbformat_minor": 2
}
